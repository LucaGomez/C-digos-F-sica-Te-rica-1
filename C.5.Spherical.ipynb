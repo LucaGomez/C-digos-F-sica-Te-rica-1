{
 "cells": [
  {
   "cell_type": "markdown",
   "metadata": {},
   "source": [
    "# Manipulación de armónicos esféricos con SymPy\n",
    "En este notebook vemos cómo calcular algunas propiedades e integrales de los armónicos esféricos usando SymPy. Las funciones especiales implementadas en SymPy están descriptas acá: https://docs.sympy.org/latest/modules/functions/special.html. Recuerden que cada celda a continuación debe ejecutarse en orden, apretando SHIFT+ENTER:"
   ]
  },
  {
   "cell_type": "code",
   "execution_count": 1,
   "metadata": {},
   "outputs": [],
   "source": [
    "# El código en esta celda asegura que SymPy funcione correctamente en Google colab o en sus computadoras\n",
    "import os\n",
    "if \"COLAB_GPU\" in os.environ:\n",
    "  from sympy import *\n",
    "  def custom_latex_printer(expr, **options):\n",
    "      from IPython.display import Math, HTML\n",
    "      from google.colab.output._publish import javascript\n",
    "      url = \"https://cdnjs.cloudflare.com/ajax/libs/mathjax/2.7.7/MathJax.js?config=TeX-AMS_CHTML\"\n",
    "      javascript(content=\"\"\"window.MathJax = { tex2jax: { inlineMath: [ ['$','$'] ], processEscapes: true } };\"\"\")\n",
    "      javascript(url=url)\n",
    "      return latex(expr, **options)\n",
    "  init_printing(use_latex=\"mathjax\", latex_printer=custom_latex_printer)\n",
    "else:\n",
    "  from sympy import *\n",
    "  init_printing()"
   ]
  },
  {
   "cell_type": "code",
   "execution_count": 2,
   "metadata": {},
   "outputs": [],
   "source": [
    "# Definimos variables simbólicas; noten que definimos a l como entero positivo y a m como entero\n",
    "l = symbols(\"l\", integer=True, positive=True)\n",
    "m = symbols(\"m\", integer=True)\n",
    "theta,phi = symbols(\"theta phi\", real=True)"
   ]
  },
  {
   "cell_type": "markdown",
   "metadata": {},
   "source": [
    "## Simetrías de los armónicos esféricos\n",
    "Comencemos verificando algunas propiedades de los armónicos esféricos frente a rotaciones alrededor del eje z, cambios de m por -m, y cálculo del conjugado del armónico esférico:"
   ]
  },
  {
   "cell_type": "code",
   "execution_count": 3,
   "metadata": {},
   "outputs": [
    {
     "data": {
      "image/png": "[encoded data removed]",
      "text/latex": [
       "$\\displaystyle \\left(-1\\right)^{m} e^{- 2 i m \\phi} Y_{l}^{m}\\left(\\theta,\\phi\\right)$"
      ],
      "text/plain": [
       "    m  -2⋅ⅈ⋅m⋅φ                \n",
       "(-1) ⋅ℯ        ⋅Ynm(l, m, θ, φ)"
      ]
     },
     "execution_count": 3,
     "metadata": {},
     "output_type": "execute_result"
    }
   ],
   "source": [
    "# Veamos cuanto vale el armónico esférico de -m\n",
    "Ynm(l, -m, theta, phi)"
   ]
  },
  {
   "cell_type": "code",
   "execution_count": 4,
   "metadata": {},
   "outputs": [
    {
     "data": {
      "image/png": "[encoded data removed]",
      "text/latex": [
       "$\\displaystyle e^{- 2 i m \\phi} Y_{l}^{m}\\left(\\theta,\\phi\\right)$"
      ],
      "text/plain": [
       " -2⋅ⅈ⋅m⋅φ                \n",
       "ℯ        ⋅Ynm(l, m, θ, φ)"
      ]
     },
     "execution_count": 4,
     "metadata": {},
     "output_type": "execute_result"
    }
   ],
   "source": [
    "# Y comparemos este resultado con el armónico esférico evaluado en -phi\n",
    "Ynm(l, m, theta, -phi)"
   ]
  },
  {
   "cell_type": "code",
   "execution_count": 5,
   "metadata": {},
   "outputs": [
    {
     "data": {
      "image/png": "[encoded data removed]",
      "text/latex": [
       "$\\displaystyle e^{- 2 i m \\phi} Y_{l}^{m}\\left(\\theta,\\phi\\right)$"
      ],
      "text/plain": [
       " -2⋅ⅈ⋅m⋅φ                \n",
       "ℯ        ⋅Ynm(l, m, θ, φ)"
      ]
     },
     "execution_count": 5,
     "metadata": {},
     "output_type": "execute_result"
    }
   ],
   "source": [
    "# Y con el conjugado del armónico esférico\n",
    "conjugate(Ynm(l, m, theta, phi))"
   ]
  },
  {
   "cell_type": "markdown",
   "metadata": {},
   "source": [
    "## Expresiones explícitas de los armónicos esféricos\n",
    "Veamos algunas expresiones explícitas, en el caso general, y para valores particulares de l y m. Para eso usamos el comando \"expand\", y \"simplify\" para simplificar el resultado:"
   ]
  },
  {
   "cell_type": "code",
   "execution_count": 6,
   "metadata": {},
   "outputs": [
    {
     "data": {
      "image/png": "[encoded data removed]",
      "text/latex": [
       "$\\displaystyle \\frac{\\sqrt{\\frac{\\left(l - m\\right)!}{\\left(l + m\\right)!}} \\sqrt{2 l + 1} e^{i m \\phi} P_{l}^{\\left(m\\right)}\\left(\\cos{\\left(\\theta \\right)}\\right)}{2 \\sqrt{\\pi}}$"
      ],
      "text/plain": [
       "    __________                                                \n",
       "   ╱ (l - m)!    _________  ⅈ⋅m⋅φ                             \n",
       "  ╱  ──────── ⋅╲╱ 2⋅l + 1 ⋅ℯ     ⋅assoc_legendre(l, m, cos(θ))\n",
       "╲╱   (l + m)!                                                 \n",
       "──────────────────────────────────────────────────────────────\n",
       "                             2⋅√π                             "
      ]
     },
     "execution_count": 6,
     "metadata": {},
     "output_type": "execute_result"
    }
   ],
   "source": [
    "# Veamos la expresión explícita de los armónicos esféricos para cualquier valor de l y m\n",
    "simplify(Ynm(l, m, theta, phi).expand(func=True))"
   ]
  },
  {
   "cell_type": "code",
   "execution_count": 7,
   "metadata": {},
   "outputs": [
    {
     "data": {
      "image/png": "[encoded data removed]",
      "text/latex": [
       "$\\displaystyle \\frac{1}{2 \\sqrt{\\pi}}$"
      ],
      "text/plain": [
       " 1  \n",
       "────\n",
       "2⋅√π"
      ]
     },
     "execution_count": 7,
     "metadata": {},
     "output_type": "execute_result"
    }
   ],
   "source": [
    "# Y veamos la expresión para algún valor partícular de l y m (prueben cambiar los valores)\n",
    "simplify(Ynm(0, 0, theta, phi).expand(func=True))"
   ]
  },
  {
   "cell_type": "markdown",
   "metadata": {},
   "source": [
    "## Derivadas de armónicos esféricos\n",
    "Calculemos las derivadas de los armónicos esféricos usando el comando \"diff\" (pueden encontrar detalles sobre el comando \"diff\" en https://docs.sympy.org/latest/tutorial/calculus.html)."
   ]
  },
  {
   "cell_type": "code",
   "execution_count": 8,
   "metadata": {},
   "outputs": [
    {
     "data": {
      "image/png": "[encoded data removed]",
      "text/latex": [
       "$\\displaystyle m \\cot{\\left(\\theta \\right)} Y_{l}^{m}\\left(\\theta,\\phi\\right) + \\sqrt{\\left(l - m\\right) \\left(l + m + 1\\right)} e^{- i \\phi} Y_{l}^{m + 1}\\left(\\theta,\\phi\\right)$"
      ],
      "text/plain": [
       "                             _____________________  -ⅈ⋅φ                    \n",
       "m⋅cot(θ)⋅Ynm(l, m, θ, φ) + ╲╱ (l - m)⋅(l + m + 1) ⋅ℯ    ⋅Ynm(l, m + 1, θ, φ)"
      ]
     },
     "execution_count": 8,
     "metadata": {},
     "output_type": "execute_result"
    }
   ],
   "source": [
    "# Derivada respecto a theta\n",
    "diff(Ynm(l, m, theta, phi), theta)"
   ]
  },
  {
   "cell_type": "code",
   "execution_count": 9,
   "metadata": {},
   "outputs": [
    {
     "data": {
      "image/png": "[encoded data removed]",
      "text/latex": [
       "$\\displaystyle i m Y_{l}^{m}\\left(\\theta,\\phi\\right)$"
      ],
      "text/plain": [
       "ⅈ⋅m⋅Ynm(l, m, θ, φ)"
      ]
     },
     "execution_count": 9,
     "metadata": {},
     "output_type": "execute_result"
    }
   ],
   "source": [
    "# Derivada respecto a phi\n",
    "diff(Ynm(l, m, theta, phi), phi)"
   ]
  },
  {
   "cell_type": "markdown",
   "metadata": {},
   "source": [
    "## Integrales de armónicos esféricos\n",
    "SymPy es bastante limitado a la hora de calcular integrales que requieran reconocer ortogonalidad de funciones, o propiedades generales de este tipo de funciones. Pero puede servir de ayuda a la hora de calcular ciertas integrales, o por lo menos, a la hora de ver cómo empezar una cuenta. Veamos cómo calcular integrales definidas de los armónicos esféricos usando \"integrate\" (vean https://docs.sympy.org/latest/tutorial/calculus.html para mas detalles del cálculo de integrales simbólicas en SymPy)."
   ]
  },
  {
   "cell_type": "code",
   "execution_count": 10,
   "metadata": {},
   "outputs": [
    {
     "data": {
      "image/png": "[encoded data removed]",
      "text/latex": [
       "$\\displaystyle \\int\\limits_{0}^{2 \\pi}\\int\\limits_{0}^{\\pi} \\sin{\\left(\\theta \\right)} Y_{3}^{2}\\left(\\theta,\\phi\\right)\\, d\\theta\\, d\\phi$"
      ],
      "text/plain": [
       "2⋅π π                             \n",
       " ⌠  ⌠                             \n",
       " ⎮  ⎮ sin(θ)⋅Ynm(3, 2, θ, φ) dθ dφ\n",
       " ⌡  ⌡                             \n",
       " 0  0                             "
      ]
     },
     "execution_count": 10,
     "metadata": {},
     "output_type": "execute_result"
    }
   ],
   "source": [
    "# Esta integral debería ser cero (por periodicidad de exp(i m phi)), pero SimPy no se da cuenta:\n",
    "integrate(Ynm(3, 2, theta, phi)*sin(theta), (theta, 0, pi), (phi, 0, 2*pi))"
   ]
  },
  {
   "cell_type": "code",
   "execution_count": 11,
   "metadata": {},
   "outputs": [
    {
     "data": {
      "image/png": "[encoded data removed]",
      "text/latex": [
       "$\\displaystyle 2 \\pi Y_{0}^{0}\\left(0,2 \\pi\\right) + 2 \\pi Y_{0}^{0}\\left(\\pi,2 \\pi\\right)$"
      ],
      "text/plain": [
       "2⋅π⋅Ynm(0, 0, 0, 2⋅π) + 2⋅π⋅Ynm(0, 0, π, 2⋅π)"
      ]
     },
     "execution_count": 11,
     "metadata": {},
     "output_type": "execute_result"
    }
   ],
   "source": [
    "# Pero esta integral no es cero (porque m=0):\n",
    "integrate(Ynm(0, 0, theta, phi)*sin(theta), (theta, 0, pi), (phi, 0, 2*pi))"
   ]
  },
  {
   "cell_type": "code",
   "execution_count": 12,
   "metadata": {},
   "outputs": [
    {
     "data": {
      "image/png": "[encoded data removed]",
      "text/latex": [
       "$\\displaystyle 2 \\sqrt{\\pi}$"
      ],
      "text/plain": [
       "2⋅√π"
      ]
     },
     "execution_count": 12,
     "metadata": {},
     "output_type": "execute_result"
    }
   ],
   "source": [
    "# En casos como este, expandir el resultado y luego simplificarlo puede ayudar. Usamos \"_\" para representar al último cálculo:\n",
    "simplify((_).expand(func=True))"
   ]
  },
  {
   "cell_type": "code",
   "execution_count": 13,
   "metadata": {},
   "outputs": [
    {
     "data": {
      "image/png": "[encoded data removed]",
      "text/latex": [
       "$\\displaystyle 0$"
      ],
      "text/plain": [
       "0"
      ]
     },
     "execution_count": 13,
     "metadata": {},
     "output_type": "execute_result"
    }
   ],
   "source": [
    "# También podemos integrar productos de armónicos esféricos contra la delta de Dirac\n",
    "integrate(DiracDelta(theta)*Ynm(3, 2, theta, phi)*sin(theta), (theta, 0, pi), (phi, 0, 2*pi))"
   ]
  },
  {
   "cell_type": "code",
   "execution_count": 14,
   "metadata": {},
   "outputs": [
    {
     "data": {
      "image/png": "[encoded data removed]",
      "text/latex": [
       "$\\displaystyle - \\frac{i Y_{3}^{2}\\left(\\frac{\\pi}{2},2 \\pi\\right)}{2} + \\frac{i Y_{3}^{2}\\left(\\frac{\\pi}{2},0\\right)}{2}$"
      ],
      "text/plain": [
       "       ⎛      π     ⎞        ⎛      π   ⎞\n",
       "  ⅈ⋅Ynm⎜3, 2, ─, 2⋅π⎟   ⅈ⋅Ynm⎜3, 2, ─, 0⎟\n",
       "       ⎝      2     ⎠        ⎝      2   ⎠\n",
       "- ─────────────────── + ─────────────────\n",
       "           2                    2        "
      ]
     },
     "execution_count": 14,
     "metadata": {},
     "output_type": "execute_result"
    }
   ],
   "source": [
    "# Otro ejemplo de un producto de un armónico esférico contra la delta de Dirac:\n",
    "integrate(DiracDelta(theta-pi/2)*Ynm(3, 2, theta, phi)*sin(theta), (theta, 0, pi), (phi, 0, 2*pi))"
   ]
  },
  {
   "cell_type": "code",
   "execution_count": 15,
   "metadata": {},
   "outputs": [
    {
     "data": {
      "image/png": "[encoded data removed]",
      "text/latex": [
       "$\\displaystyle 0$"
      ],
      "text/plain": [
       "0"
      ]
     },
     "execution_count": 15,
     "metadata": {},
     "output_type": "execute_result"
    }
   ],
   "source": [
    "# Nuevamente, en este caso expandir el resultado y luego simplificarlo ayuda\n",
    "simplify((_).expand(func=True))"
   ]
  },
  {
   "cell_type": "code",
   "execution_count": null,
   "metadata": {},
   "outputs": [],
   "source": []
  }
 ],
 "metadata": {
  "kernelspec": {
   "display_name": "Python 3",
   "language": "python",
   "name": "python3"
  },
  "language_info": {
   "codemirror_mode": {
    "name": "ipython",
    "version": 3
   },
   "file_extension": ".py",
   "mimetype": "text/x-python",
   "name": "python",
   "nbconvert_exporter": "python",
   "pygments_lexer": "ipython3",
   "version": "3.7.8"
  }
 },
 "nbformat": 4,
 "nbformat_minor": 2
}
